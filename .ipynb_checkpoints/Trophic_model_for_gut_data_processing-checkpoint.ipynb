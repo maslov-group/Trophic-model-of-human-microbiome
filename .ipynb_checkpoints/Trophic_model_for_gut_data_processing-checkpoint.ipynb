{
 "cells": [
  {
   "cell_type": "markdown",
   "metadata": {},
   "source": [
    "# Trophic model for gut data processing\n",
    "This file is used to pre-process all data (especially Chia network and Thai Children data) into the format which is convenient for simulations."
   ]
  },
  {
   "cell_type": "code",
   "execution_count": 1,
   "metadata": {},
   "outputs": [],
   "source": [
    "########### Self-customized setting\n",
    "import pandas as pd\n",
    "import numpy as np"
   ]
  },
  {
   "cell_type": "code",
   "execution_count": 38,
   "metadata": {
    "scrolled": false
   },
   "outputs": [
    {
     "name": "stdout",
     "output_type": "stream",
     "text": [
      "   metabolites_ID  microbes_ID  \\\n",
      "0            2001          896   \n",
      "1            2001          832   \n",
      "2            2001          831   \n",
      "3            2001          600   \n",
      "4            2001          571   \n",
      "\n",
      "   edge_types (2 represents intake, 3 represents secretion and 5 represents intake and secretion)  \n",
      "0                                                  2                                               \n",
      "1                                                  2                                               \n",
      "2                                                  2                                               \n",
      "3                                                  3                                               \n",
      "4                                                  3                                               \n",
      "###################################################################################################\n",
      "                                                  Names\n",
      "IDs                                                    \n",
      "3                            Acetivibrio cellulolyticus\n",
      "4                              Acetobacter pasteurianus\n",
      "5                              Acetohalobium arabaticum\n",
      "6                                Acholeplasma laidlawii\n",
      "7                              Achromobacter piechaudii\n",
      "8                            Achromobacter xylosoxidans\n",
      "9                            Acidaminococcus fermentans\n",
      "10                          Acidimicrobium ferrooxidans\n",
      "11                                 Acidiphilium cryptum\n",
      "12                             Acidithiobacillus caldus\n",
      "13                       Acidithiobacillus ferrooxidans\n",
      "15                          Acidothermus cellulolyticus\n",
      "16                                    Acidovorax avenae\n",
      "17                               Acidovorax delafieldii\n",
      "20                          Acinetobacter calcoaceticus\n",
      "25                         Acinetobacter radioresistens\n",
      "28                          Actinobacillus succinogenes\n",
      "30                               Actinomyces coleocanis\n",
      "31                            Actinomyces odontolyticus\n",
      "32                                     Actinomyces oris\n",
      "33                             Actinomyces urogenitalis\n",
      "34                                 Actinomyces viscosus\n",
      "35                                  Actinosynnema mirum\n",
      "37                                Aeromicrobium marinum\n",
      "38                                 Aeromonas hydrophila\n",
      "39                                Aeromonas salmonicida\n",
      "40                                     Aeropyrum pernix\n",
      "41                Aggregatibacter actinomycetemcomitans\n",
      "44    Agrobacterium tumefaciens (Rhizobium radiobacter)\n",
      "46                              Akkermansia muciniphila\n",
      "...                                                 ...\n",
      "2214                                          Stachyose\n",
      "2215                                             Starch\n",
      "2216             Stearic acid (Stearate, Octadecanoate)\n",
      "2217                                          Succinate\n",
      "2218                                            Sucrose\n",
      "2219                            Sulfate (Sulfuric acid)\n",
      "2220                          Sulfur (Elemental sulfur)\n",
      "2221                                            Taurine\n",
      "2222                             Taurochenodeoxycholate\n",
      "2223                                       Taurocholate\n",
      "2224                                  Taurodeoxycholate\n",
      "2225                                  Taurolithocholate\n",
      "2226                     Thiamine (Vitamin B1, Thiamin)\n",
      "2227                                        Thiosulfate\n",
      "2228                                          Thymidine\n",
      "2229                                            Thymine\n",
      "2230                                            Toluene\n",
      "2231                                          Trehalose\n",
      "2232                                       Triglyceride\n",
      "2233                                     Trimethylamine\n",
      "2234    Trimethylamine N-oxide (Trimethylamine-N-oxide)\n",
      "2235                                         Tryptamine\n",
      "2236                                           Tyramine\n",
      "2237                                             Uracil\n",
      "2238                                               Urea\n",
      "2239                                            Uridine\n",
      "2240              Valerate (Pentanoic acid, Pentanoate)\n",
      "2241                                           Xanthine\n",
      "2242                          XOS (Xylooligosaccharide)\n",
      "2243                                            Xylitol\n",
      "\n",
      "[805 rows x 1 columns]\n",
      "###################################################################################################\n"
     ]
    },
    {
     "name": "stderr",
     "output_type": "stream",
     "text": [
      "/anaconda3/lib/python3.7/site-packages/ipykernel_launcher.py:10: ParserWarning: Falling back to the 'python' engine because the 'c' engine does not support regex separators (separators > 1 char and different from '\\s+' are interpreted as regex); you can avoid this warning by specifying engine='python'.\n",
      "  # Remove the CWD from sys.path while we load stuff.\n",
      "/anaconda3/lib/python3.7/site-packages/ipykernel_launcher.py:16: ParserWarning: Falling back to the 'python' engine because the 'c' engine does not support regex separators (separators > 1 char and different from '\\s+' are interpreted as regex); you can avoid this warning by specifying engine='python'.\n",
      "  app.launch_new_instance()\n"
     ]
    },
    {
     "ename": "AttributeError",
     "evalue": "'numpy.ndarray' object has no attribute 'head'",
     "output_type": "error",
     "traceback": [
      "\u001b[0;31m---------------------------------------------------------------------------\u001b[0m",
      "\u001b[0;31mAttributeError\u001b[0m                            Traceback (most recent call last)",
      "\u001b[0;32m<ipython-input-38-d64b9b378d91>\u001b[0m in \u001b[0;36m<module>\u001b[0;34m\u001b[0m\n\u001b[1;32m     16\u001b[0m \u001b[0mi_intake\u001b[0m \u001b[0;34m=\u001b[0m \u001b[0mpd\u001b[0m\u001b[0;34m.\u001b[0m\u001b[0mread_csv\u001b[0m\u001b[0;34m(\u001b[0m\u001b[0;34m'nutrient_intake_ID.txt'\u001b[0m\u001b[0;34m,\u001b[0m\u001b[0msep\u001b[0m\u001b[0;34m=\u001b[0m\u001b[0;34m': '\u001b[0m\u001b[0;34m)\u001b[0m\u001b[0;34m\u001b[0m\u001b[0;34m\u001b[0m\u001b[0m\n\u001b[1;32m     17\u001b[0m \u001b[0mi_intake\u001b[0m \u001b[0;34m=\u001b[0m \u001b[0mi_intake\u001b[0m\u001b[0;34m[\u001b[0m\u001b[0;34m'IDs'\u001b[0m\u001b[0;34m]\u001b[0m\u001b[0;34m.\u001b[0m\u001b[0mvalues\u001b[0m\u001b[0;34m\u001b[0m\u001b[0;34m\u001b[0m\u001b[0m\n\u001b[0;32m---> 18\u001b[0;31m \u001b[0mprint\u001b[0m\u001b[0;34m(\u001b[0m\u001b[0mi_intake\u001b[0m\u001b[0;34m.\u001b[0m\u001b[0mhead\u001b[0m\u001b[0;34m(\u001b[0m\u001b[0;34m)\u001b[0m\u001b[0;34m)\u001b[0m\u001b[0;34m\u001b[0m\u001b[0;34m\u001b[0m\u001b[0m\n\u001b[0m\u001b[1;32m     19\u001b[0m \u001b[0mprint\u001b[0m\u001b[0;34m(\u001b[0m\u001b[0;34m'###################################################################################################'\u001b[0m\u001b[0;34m)\u001b[0m\u001b[0;34m\u001b[0m\u001b[0;34m\u001b[0m\u001b[0m\n\u001b[1;32m     20\u001b[0m \u001b[0;34m\u001b[0m\u001b[0m\n",
      "\u001b[0;31mAttributeError\u001b[0m: 'numpy.ndarray' object has no attribute 'head'"
     ]
    }
   ],
   "source": [
    "########### Load Chia network as net (containing information of metabolite consumption and production)\n",
    "net = pd.read_csv('pruned_chia_network.csv')\n",
    "mean_net = net.groupby('microbes_ID').mean()\n",
    "selfish_net = mean_net[mean_net.iloc[:,1] == 2]\n",
    "i_selfish = selfish_net.index.values   #### i_selfish returns IDs of microbes don't generate byproducts\n",
    "print(net.head())\n",
    "print('###################################################################################################')\n",
    "\n",
    "########### Load names of all nodes in the Chia network\n",
    "names = pd.read_csv('names_ID.txt',sep=': ')\n",
    "names.set_index('IDs', inplace=True)\n",
    "print(names.head())\n",
    "print('###################################################################################################')\n",
    "\n",
    "########### Load names of all nodes in the Chia network\n",
    "i_intake = pd.read_csv('nutrient_intake_ID.txt',sep=': ')\n",
    "i_intake = i_intake['IDs'].values\n",
    "print(i_intake)\n",
    "print('###################################################################################################')\n",
    "\n",
    "########### Load all gut metagenomic data of all 41 individuals\n",
    "thai_metagenome_all = pd.read_csv('abundance_matched_thai.txt', sep='\\t')\n",
    "thai_metagenome_all.head()\n",
    "thai_metagenome_all = thai_metagenome_all.groupby('Chia_id').sum().iloc[1:,].reset_index()\n",
    "thai_metagenome_ID = thai_metagenome_all['Chia_id']\n",
    "#print((thai_metagenome_ID!=0).sum())\n",
    "thai_metagenome = thai_metagenome_all[thai_metagenome_ID!=0].iloc[:,3:]\n",
    "thai_metagenome_ID = thai_metagenome_ID[thai_metagenome_ID!=0]\n",
    "print(thai_metagenome.head())\n",
    "print('###################################################################################################')\n",
    "\n",
    "########### Load all gut metabolome data of all 41 individuals\n",
    "thai_metabolome_all = pd.read_excel('metabolome_matched_thai_modified_by_Tong.xlsx')\n",
    "thai_metabolome_all = thai_metabolome_all.groupby('Chia_id').sum().iloc[1:,].reset_index()\n",
    "thai_metabolome_ID = thai_metabolome_all['Chia_id']\n",
    "#print((thai_metabolome_ID!=0).sum())\n",
    "thai_metabolome = thai_metabolome_all[thai_metabolome_ID!=0].iloc[:,2:]\n",
    "thai_metabolome_ID = thai_metabolome_ID[thai_metabolome_ID!=0]\n",
    "print(thai_metabolome.head())\n",
    "print('###################################################################################################')\n",
    "\n",
    "intersected_names = np.intersect1d(thai_metagenome.columns.values, thai_metabolome.columns.values)\n",
    "thai_metagenome = thai_metagenome[intersected_names]\n",
    "thai_metabolome = thai_metabolome[intersected_names]\n",
    "print('Intersection between metagenome and metabolome:')\n",
    "print(thai_metagenome.head())\n",
    "print(thai_metabolome.head())"
   ]
  },
  {
   "cell_type": "code",
   "execution_count": 37,
   "metadata": {},
   "outputs": [],
   "source": [
    "########### pickle all processed data which are useful for simulations\n",
    "import pickle\n",
    "\n",
    "pickle_out = open(\"Chia_network.pickle\",\"wb\")\n",
    "pickle.dump([net, i_selfish, i_intake, names], pickle_out)\n",
    "pickle_out.close()\n",
    "\n",
    "pickle_out = open(\"Thai_data.pickle\",\"wb\")\n",
    "pickle.dump([thai_metagenome_ID, thai_metagenome, thai_metabolome_ID, thai_metabolome], pickle_out)\n",
    "pickle_out.close()"
   ]
  },
  {
   "cell_type": "code",
   "execution_count": null,
   "metadata": {},
   "outputs": [],
   "source": []
  }
 ],
 "metadata": {
  "kernelspec": {
   "display_name": "Python 3",
   "language": "python",
   "name": "python3"
  },
  "language_info": {
   "codemirror_mode": {
    "name": "ipython",
    "version": 3
   },
   "file_extension": ".py",
   "mimetype": "text/x-python",
   "name": "python",
   "nbconvert_exporter": "python",
   "pygments_lexer": "ipython3",
   "version": "3.7.3"
  }
 },
 "nbformat": 4,
 "nbformat_minor": 2
}
